{
  "nbformat": 4,
  "nbformat_minor": 0,
  "metadata": {
    "colab": {
      "name": "SmartChatBot.ipynb",
      "provenance": [],
      "toc_visible": true,
      "authorship_tag": "ABX9TyOWpatWkA6wHWbH+4fY/fuB",
      "include_colab_link": true
    },
    "kernelspec": {
      "name": "python3",
      "display_name": "Python 3"
    },
    "language_info": {
      "name": "python"
    }
  },
  "cells": [
    {
      "cell_type": "markdown",
      "metadata": {
        "id": "view-in-github",
        "colab_type": "text"
      },
      "source": [
        "<a href=\"https://colab.research.google.com/github/jstrandt/Crypto-Signal/blob/master/SmartChatBot.ipynb\" target=\"_parent\"><img src=\"https://colab.research.google.com/assets/colab-badge.svg\" alt=\"Open In Colab\"/></a>"
      ]
    },
    {
      "cell_type": "code",
      "metadata": {
        "colab": {
          "base_uri": "https://localhost:8080/"
        },
        "id": "SZb8nrRHI3HU",
        "outputId": "cc824bab-ffce-4e4a-a52e-75bee903b2f4"
      },
      "source": [
        "pip install chatterbot"
      ],
      "execution_count": null,
      "outputs": [
        {
          "output_type": "stream",
          "name": "stdout",
          "text": [
            "Collecting chatterbot\n",
            "  Downloading ChatterBot-1.0.8-py2.py3-none-any.whl (63 kB)\n",
            "\u001b[K     |████████████████████████████████| 63 kB 2.3 MB/s \n",
            "\u001b[?25hCollecting sqlalchemy<1.4,>=1.3\n",
            "  Downloading SQLAlchemy-1.3.24-cp37-cp37m-manylinux2010_x86_64.whl (1.3 MB)\n",
            "\u001b[K     |████████████████████████████████| 1.3 MB 44.6 MB/s \n",
            "\u001b[?25hCollecting mathparse<0.2,>=0.1\n",
            "  Downloading mathparse-0.1.2-py3-none-any.whl (7.2 kB)\n",
            "Requirement already satisfied: pytz in /usr/local/lib/python3.7/dist-packages (from chatterbot) (2018.9)\n",
            "Requirement already satisfied: python-dateutil<2.9,>=2.8 in /usr/local/lib/python3.7/dist-packages (from chatterbot) (2.8.2)\n",
            "Requirement already satisfied: six>=1.5 in /usr/local/lib/python3.7/dist-packages (from python-dateutil<2.9,>=2.8->chatterbot) (1.15.0)\n",
            "Installing collected packages: sqlalchemy, mathparse, chatterbot\n",
            "  Attempting uninstall: sqlalchemy\n",
            "    Found existing installation: SQLAlchemy 1.4.22\n",
            "    Uninstalling SQLAlchemy-1.4.22:\n",
            "      Successfully uninstalled SQLAlchemy-1.4.22\n",
            "Successfully installed chatterbot-1.0.8 mathparse-0.1.2 sqlalchemy-1.3.24\n"
          ]
        }
      ]
    },
    {
      "cell_type": "code",
      "metadata": {
        "id": "8l1eqBLrINgn"
      },
      "source": [
        "from chatterbot import ChatBot\n",
        "from chatterbot.trainers import ListTrainer"
      ],
      "execution_count": null,
      "outputs": []
    },
    {
      "cell_type": "code",
      "metadata": {
        "colab": {
          "base_uri": "https://localhost:8080/"
        },
        "id": "fQML6JnYFfEP",
        "outputId": "25b59d50-b2c5-4bfd-83ff-fd5f775684e5"
      },
      "source": [
        "from chatterbot import ChatBot\n",
        "from chatterbot.trainers import ListTrainer\n",
        "\n",
        "smartbot = ChatBot(\"Nelly\")\n",
        "\n",
        "Talk = [\"Hello\",\n",
        "\"Hello, how are you doing\",\n",
        "\"I am doing great\",\n",
        "\"Okay good to hear\",\n",
        "\"How about you\",\n",
        "\"I am fine\",\n",
        "\"Who are you?\",\n",
        "\"My name is Nelly and I am created by Jason Strand\",\n",
        "\"can you help me\",\n",
        "\"I am here to help you\",\n",
        "\"What do you do\",\n",
        "\"I always love to help people\",\n",
        "\"who is the founder of Taal project\",\n",
        "\"Nelly is the founder of Taal project\",\n",
        "\"what is Taal project\",\n",
        "\"It is a French non--profit organization\",\n",
        "\"can you speak in any other language\",\n",
        "\"No sorry ! I can only speak in English\",\n",
        "\"What do you eat\",\n",
        "\"I am a bot so I do not eat food\",\n",
        "\"Thank you\",\n",
        "\"Your welcome, see youn soon\"\n",
        "]\n",
        "\n",
        "trainer = ListTrainer(smartbot)\n",
        "\n",
        "trainer.train(Talk)\n",
        "\n",
        "print(\"chat with bot\")\n",
        "while True:\n",
        "  query = input()\n",
        "  if query == 'exit':\n",
        "    break\n",
        "  answer = smartbot.get_response(query)\n",
        "  print(\"Nelly:\",answer)\n",
        "/"
      ],
      "execution_count": null,
      "outputs": [
        {
          "name": "stdout",
          "output_type": "stream",
          "text": [
            "List Trainer: [####################] 100%\n",
            "chat with bot\n",
            "Hello\n",
            "Nelly: Hello, how are you doing\n",
            "I'm doing well how about you\n",
            "Nelly: I am doing great\n",
            "That's awesome\n",
            "Nelly: what is Taal project\n",
            "Don't know. What is it?\n",
            "Nelly: I am doing great\n",
            "I am doing graet\n",
            "Nelly: Okay good to hear\n",
            "\n"
          ]
        },
        {
          "output_type": "stream",
          "name": "stderr",
          "text": [
            "No value for search_text was available on the provided input\n"
          ]
        },
        {
          "output_type": "stream",
          "name": "stdout",
          "text": [
            "Nelly: Hello\n",
            "hello\n",
            "Nelly: Hello, how are you doing\n",
            "What causes diabetes?\n",
            "Nelly: What do you eat\n",
            "I eat diabetes\n",
            "Nelly: can you speak in any other language\n",
            "Yes, French\n",
            "Nelly: Hello, how are you doing\n",
            "Bonjour\n",
            "Nelly: I always love to help people\n",
            "I love being helped\n",
            "Nelly: who is the founder of Taal project\n"
          ]
        }
      ]
    },
    {
      "cell_type": "code",
      "metadata": {
        "id": "2sznjLNPH8el"
      },
      "source": [
        ""
      ],
      "execution_count": null,
      "outputs": []
    }
  ]
}